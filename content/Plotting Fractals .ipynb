{
 "cells": [
  {
   "cell_type": "markdown",
   "id": "f2f2467c",
   "metadata": {},
   "source": [
    "# Plotting Fractals"
   ]
  },
  {
   "cell_type": "markdown",
   "id": "6b634e68",
   "metadata": {},
   "source": [
    "<img src=\"tutorial-plotting-fractals/fractal.png\" alt=\"Fractal picture\" style=\"width: 1000px;\">"
   ]
  },
  {
   "cell_type": "markdown",
   "id": "8c9a5248",
   "metadata": {},
   "source": [
    "Fractals are beautiful, compelling mathematical forms that can be oftentimes created from a relatively simple set of instructions. In nature they can be found in various places, such as coastlines, seashells, and ferns, and even were used in creating certain types of antennas. The mathematical idea of fractals was known for quite some time, but they really began to be truly appreciated in the 1970's as advancements in computer graphics and some accidental discoveries lead researchers like Mandelbrot to stumble upon the truly mystifying visualizations that fractals possess. \n",
    "\n",
    "Today we will learn how to plot these beautiful visualizations and will start to do a bit of exploring for ourselves as we gain familiarity of the mathematics behind fractals and will use the ever powerful NumPy universal functions to perform the necessary calculations efficiently. \n"
   ]
  },
  {
   "cell_type": "markdown",
   "id": "13e8c7ee",
   "metadata": {},
   "source": [
    "# What you'll do\n",
    "\n",
    "- Write a function for computing Mandelbrot fractals\n",
    "- Write a function that computes Newton fractals \n",
    "- Experiment with variations of general fractal types"
   ]
  },
  {
   "cell_type": "markdown",
   "id": "e52b54e1",
   "metadata": {},
   "source": [
    "# What you'll learn\n",
    "\n",
    "- A better intuition for how fractals work mathematically \n",
    "- A basic understanding about NumPy Universal Functions and Boolean Indexing\n",
    "- The basics of working with complex numbers in NumPy \n",
    "- How to create your own unique fractal visualizations"
   ]
  },
  {
   "cell_type": "markdown",
   "id": "530eb37c",
   "metadata": {},
   "source": [
    "# What you'll need\n",
    "\n",
    "- Matplotlib\n",
    "- make_axis_locatable function from mpl_toolkits API\n",
    " \n",
    "which can be imported as follows:"
   ]
  },
  {
   "cell_type": "code",
   "execution_count": null,
   "id": "a5c06525",
   "metadata": {},
   "outputs": [],
   "source": [
    "import numpy as np\n",
    "import matplotlib.pyplot as plt\n",
    "from mpl_toolkits.axes_grid1 import make_axes_locatable"
   ]
  },
  {
   "cell_type": "markdown",
   "id": "151bea63",
   "metadata": {},
   "source": [
    "- Some familiarity with Python, NumPy and matplotlib\n",
    "- An idea of elementary mathematical functions, such as exponents, sin, polynomials etc\n",
    "- A very basic understanding of complex numbers would be useful\n",
    "- Knowledge of derivatives may be helpful"
   ]
  },
  {
   "cell_type": "markdown",
   "id": "6eb3f0f4",
   "metadata": {},
   "source": [
    "# Warmup\n",
    "\n",
    "To gain some intuition for what fractals are, we will begin with an example.\n",
    "\n",
    "Consider the following equation: \n",
    "\n",
    "$f(z) = z^2 -1 $ \n",
    "\n",
    "where z is a complex number (i.e of the form $a + bi$ )\n",
    "\n",
    "For our convenience, we will write a Python function for it"
   ]
  },
  {
   "cell_type": "code",
   "execution_count": null,
   "id": "fe66bfe6",
   "metadata": {},
   "outputs": [],
   "source": [
    "def f(z):\n",
    "    return np.square(z) - 1  "
   ]
  },
  {
   "cell_type": "markdown",
   "id": "87e28e6a",
   "metadata": {},
   "source": [
    "Note that the square function we used is an example of a **NumPy Universal Function**; we will come back to the significance of this decision shortly. \n",
    "\n",
    "To gain some intuition for the behaviour of the function, we can try plugging in some different values.\n",
    "\n",
    "For z = 0, we would expect to get -1 "
   ]
  },
  {
   "cell_type": "code",
   "execution_count": null,
   "id": "734c1ae5",
   "metadata": {},
   "outputs": [],
   "source": [
    "f(0)"
   ]
  },
  {
   "cell_type": "markdown",
   "id": "1f6b229d",
   "metadata": {},
   "source": [
    "Some values grow, some values shrink, some don't experience much change. "
   ]
  },
  {
   "cell_type": "code",
   "execution_count": null,
   "id": "1b3944c9",
   "metadata": {},
   "outputs": [],
   "source": [
    "np.round(f(4),2), np.round(f(1 - 0.2j),2), np.round(f(1.6),2)"
   ]
  },
  {
   "cell_type": "markdown",
   "id": "7a04de7f",
   "metadata": {},
   "source": [
    "To see the behaviour of the function on a larger scale, we can apply the function to a subset of the complex plane and plot the result. To create our subset (or mesh), we can make use of the meshgrid function."
   ]
  },
  {
   "cell_type": "code",
   "execution_count": null,
   "id": "8fd048d1",
   "metadata": {},
   "outputs": [],
   "source": [
    "x,y = np.meshgrid(np.arange(-10,10,1),np.arange(-10,10,1))\n",
    "mesh =  x + (1j *y) #Make mesh of complex plane "
   ]
  },
  {
   "cell_type": "markdown",
   "id": "647a2905",
   "metadata": {},
   "source": [
    "Now we will apply our function to each value contained in the mesh. Since we used a Universal Function in our design, this means that we can pass in the entire mesh all at once. This is extremely convenient for two reasons: It reduces the amount of code needed to be written and greatly increases the efficiency (as Universal Functions make use of system level C programming in their computations). \n",
    "\n",
    "\n",
    "Here we plot the absolute value (or modulus) of each element in the mesh after one “iteration” of the function:"
   ]
  },
  {
   "cell_type": "code",
   "execution_count": null,
   "id": "9adfa70f",
   "metadata": {},
   "outputs": [],
   "source": [
    "output = np.abs(f(mesh)) #Take the absolute value of the output (for plotting)\n",
    "\n",
    "fig = plt.figure()\n",
    "ax = plt.axes(projection='3d')\n",
    " \n",
    "ax.scatter(x,y,output,alpha=0.2)\n",
    "\n",
    "ax.set_xlabel('Real axis')\n",
    "ax.set_ylabel('Imaginary axis')\n",
    "ax.set_zlabel('Absolute value')\n",
    "ax.set_title('One Iteration: $ f(z) = z^2 - 1$');"
   ]
  },
  {
   "cell_type": "markdown",
   "id": "ff419a31",
   "metadata": {},
   "source": [
    "This gives us a rough idea of what one iteration of the function does. Certain areas (notably in the areas closest to (0,0i)) remain rather small while other areas grow quite considerably. Note that we lose information about the output by taking the absolute value, but it is the only way for us to be able to make a plot.\n",
    "\n",
    "Let’s see what happens when we apply 2 iterations to the mesh:"
   ]
  },
  {
   "cell_type": "code",
   "execution_count": null,
   "id": "db0462ba",
   "metadata": {},
   "outputs": [],
   "source": [
    "output = np.abs(f(f(mesh)))\n",
    "\n",
    "ax = plt.axes(projection='3d')\n",
    "\n",
    "ax.scatter(x,y,output,alpha=0.2)\n",
    "\n",
    "ax.set_xlabel('Real axis')\n",
    "ax.set_ylabel('Imaginary axis')\n",
    "ax.set_zlabel('Absolute value')\n",
    "ax.set_title('Two Iterations: $ f(z) = z^2 - 1$');"
   ]
  },
  {
   "cell_type": "markdown",
   "id": "0b9ccb9f",
   "metadata": {},
   "source": [
    "Once again, we see that values around the origin remain small, and values with a larger absolute value (or modulus) “explode”. \n",
    "\n",
    "From first impression, its behaviour appears to be normal, and may even seem mundane. Fractals tend to have more to them then what meets the eye; the exotic behavior shows itself when we begin applying more iterations."
   ]
  },
  {
   "cell_type": "markdown",
   "id": "1a6b0293",
   "metadata": {},
   "source": [
    "Consider three complex numbers:\n",
    "\n",
    "$z_1 = 0.4 + 0.4i $, \n",
    "\n",
    "$z_2 = z_1 + 0.1$,\n",
    "\n",
    "$z_3 = z_1 + 0.1i$\n",
    "\n",
    "Given the shape of our first two plots, we would expect that these values would remain near the origin as we apply iterations to them. Let us see what happens when we apply 10 iterations to each value:"
   ]
  },
  {
   "cell_type": "code",
   "execution_count": null,
   "id": "a9154ffc",
   "metadata": {},
   "outputs": [],
   "source": [
    "selected_values = np.array([0.4 + 0.4j, 0.41 + 0.4j, 0.4 + 0.41j]) \n",
    "for cur_val in selected_values:\n",
    "    \n",
    "    outputs = np.zeros(10,dtype=complex)\n",
    "    outputs[0] = cur_val\n",
    "\n",
    "    for i in range(9):\n",
    "        outputs[i+1] = f(outputs[i]) #Apply 10 iterations, save each output\n",
    "\n",
    "    index = np.arange(0,10)\n",
    "\n",
    "\n",
    "    fig = plt.figure(figsize=(5,5))\n",
    "    ax = plt.axes()\n",
    "\n",
    "    ax.set_xlabel('Real axis')\n",
    "    ax.set_ylabel('Imaginary axis')\n",
    "    ax.set_title(f'Mapping of iterations on {cur_val}')\n",
    "\n",
    "    cycle = ax.scatter(np.real(outputs),np.imag(outputs),c=index,alpha=0.6);\n",
    "    fig.colorbar(cycle,label='Iteration');"
   ]
  },
  {
   "cell_type": "markdown",
   "id": "6476cbee",
   "metadata": {},
   "source": [
    "To our surprise, the behaviour of the function did not come close to matching our hypothesis. This is a prime example of the chaotic behaviour fractals possess. In the first two plots, the value \"exploded\" on the last iteration, jumping way beyond the region that it was contained in previously. The third plot on the other hand remained bounded to a small region close to the origin, yielding completely different behaviour despite the tiny change in value.\n",
    "\n",
    "This leads us to an extremely important question: **How many iterations can be applied to each value before they diverge (“explode”)?** \n",
    "\n",
    "As we saw from the first two plots, the further the values were from the origin, the faster they generally exploded. Although the behaviour is uncertain for smaller values (like $z_1, z_2, z_3$), we can assume that if a value surpasses a certain distance from the origin (say 2) that it is doomed to diverge. We will call this threshold the **radius**. \n",
    "\n",
    "This allows us to quantify the behaviour of the function for a particular value without having to perform as many computations. Once the radius is surpassed, we are allowed to stop iterating, which gives us a way of answering the question we posed. If we tally how many computations were applied before divergence, we gain insight into the behaviour of the function that would be hard to keep track of otherwise.\n",
    "\n",
    "Of course, we can do much better and design a function that performs the procedure on an entire mesh. "
   ]
  },
  {
   "cell_type": "code",
   "execution_count": null,
   "id": "bab5623b",
   "metadata": {},
   "outputs": [],
   "source": [
    "def divergence_rate(mesh,num_iter=10,radius=2): \n",
    "        \n",
    "    z = mesh.copy()\n",
    "    diverge_len = np.zeros(mesh.shape) #Keep tally of the number of iterations\n",
    "        \n",
    "    for i in range(num_iter):\n",
    "        #Iterate on element if and only if |element| < radius (Otherwise assume divergence)\n",
    "        diverge_len[np.abs(z) < radius] += 1\n",
    "        z[np.abs(z) < radius] = f(z[np.abs(z)< radius])   \n",
    "        \n",
    "        \n",
    "    return diverge_len"
   ]
  },
  {
   "cell_type": "markdown",
   "id": "19af56da",
   "metadata": {},
   "source": [
    "The behaviour of this function may look confusing at first glance, so it will help to explain some of the notation.\n",
    "\n",
    "Our goal is to iterate over each value in the mesh and to tally the number of iterations before the value diverges. Since some values will diverge quicker than others, we need a procedure that only iterates over values that have an absolute value that is sufficiently small enough. We also want to stop tallying values once they surpass the radius. For this, we can use **Boolean Indexing**, a NumPy procedure that when paired with Universal Functions is unbeatable. Boolean Indexing allows for operations to be performed conditionally on a NumPy array without having to resort to looping over and checking for each array value individually. \n",
    "\n",
    "In our case, we use a loop to apply iterations to our function $f(z) = z^2 -1 $ and keep tally. Using Boolean indexing, we only apply the iterations to values that have an absolute value less then 2. \n",
    "\n",
    "With that out of the way, we can go about plotting our first fractal! "
   ]
  },
  {
   "cell_type": "code",
   "execution_count": null,
   "id": "ee5696c5",
   "metadata": {},
   "outputs": [],
   "source": [
    "x,y = np.meshgrid(np.arange(-2,2,0.01),np.arange(-2,2,0.01))\n",
    "mesh =  x + (1j *y) \n",
    "\n",
    "output = divergence_rate(mesh)\n",
    "\n",
    "fig = plt.figure(figsize=(5,5))\n",
    "ax = plt.axes()\n",
    "\n",
    "ax.set_title('$f(z) = z^2 -1$')\n",
    "ax.set_xlabel('Real axis')\n",
    "ax.set_ylabel('Imaginary axis')\n",
    "\n",
    "im = ax.imshow(output,extent=[-2,2,-2,2])\n",
    "divider = make_axes_locatable(ax)\n",
    "cax = divider.append_axes(\"right\", size=\"5%\", pad=0.1)\n",
    "plt.colorbar(im, cax=cax, label = 'Number of iterations');"
   ]
  },
  {
   "cell_type": "markdown",
   "id": "fba95f58",
   "metadata": {},
   "source": [
    "What this stunning visual conveys is the complexity of the function’s behaviour. The yellow region represents values that remain small, while the purple region represents the divergent values. The beautiful pattern that arises on the border of the converging and diverging values is even more fascinating when you realize that it is created from such a simple function."
   ]
  },
  {
   "cell_type": "markdown",
   "id": "e0f33475",
   "metadata": {},
   "source": [
    "# Mandelbrot \n",
    "\n",
    "What we just explored was an example of a fractal found in the Mandelbrot set. We can write a more generalized version of the above function to gain access to a wider range of fractals.\n",
    "\n",
    "Mandelbrot fractals are of the form of $f(z) = z^2 + c$ where c is a fixed complex number. "
   ]
  },
  {
   "cell_type": "code",
   "execution_count": null,
   "id": "71382fce",
   "metadata": {},
   "outputs": [],
   "source": [
    "def mandelbrot(mesh,c=-1,num_iter=10,radius=2):\n",
    "    \n",
    "    z = mesh.copy()\n",
    "    diverge_len = np.zeros(z.shape) \n",
    "        \n",
    "    for i in range(num_iter):\n",
    "        z[np.abs(z)< radius] = np.square(z[np.abs(z)< radius]) + c\n",
    "        diverge_len[np.abs(z)< radius] += 1\n",
    "        \n",
    "    return diverge_len"
   ]
  },
  {
   "cell_type": "markdown",
   "id": "ce970b66",
   "metadata": {},
   "source": [
    "To make our lives easier, we will create a couple meshes that we will reuse throughout the rest of the examples."
   ]
  },
  {
   "cell_type": "code",
   "execution_count": null,
   "id": "04824deb",
   "metadata": {},
   "outputs": [],
   "source": [
    "x,y = np.meshgrid(np.arange(-1,1,0.005),np.arange(-1,1,0.005))\n",
    "small_mesh = x + (1j*y) \n",
    "\n",
    "x,y = np.meshgrid(np.arange(-2,2,0.01),np.arange(-2,2,0.01))\n",
    "mesh =  x + (1j *y)"
   ]
  },
  {
   "cell_type": "markdown",
   "id": "fe2a118b",
   "metadata": {},
   "source": [
    "We will also write a function that we will use to create our fractal plots. "
   ]
  },
  {
   "cell_type": "code",
   "execution_count": null,
   "id": "48cf89bd",
   "metadata": {},
   "outputs": [],
   "source": [
    "def plot_fractal(fractal,title='Fractal',figsize=(6,6),cmap='rainbow',extent=[-2,2,-2,2]):\n",
    "\n",
    "    fig = plt.figure(figsize=figsize)\n",
    "    ax = plt.axes()\n",
    "\n",
    "    ax.set_title(f'${title}$')\n",
    "    ax.set_xlabel('Real axis')\n",
    "    ax.set_ylabel('Imaginary axis')\n",
    "\n",
    "    im = ax.imshow(fractal,extent=extent,cmap=cmap)\n",
    "    divider = make_axes_locatable(ax)\n",
    "    cax = divider.append_axes(\"right\", size=\"5%\", pad=0.1)\n",
    "    plt.colorbar(im, cax=cax, label = 'Number of iterations')\n",
    "    "
   ]
  },
  {
   "cell_type": "markdown",
   "id": "dbeaca34",
   "metadata": {},
   "source": [
    "Using our newly defined functions, we can make a quick plot of the first fractal again."
   ]
  },
  {
   "cell_type": "code",
   "execution_count": null,
   "id": "e746f8ab",
   "metadata": {},
   "outputs": [],
   "source": [
    "output = mandelbrot(mesh,num_iter=15)\n",
    "kwargs = {'title':'f(z) = z^2 -1'}\n",
    "\n",
    "plot_fractal(output,**kwargs);"
   ]
  },
  {
   "cell_type": "markdown",
   "id": "a74d7403",
   "metadata": {},
   "source": [
    "We also can start experimenting with different values of c. It can be surprising how much influence it has on the shape of the fractal.\n",
    "\n",
    "For example, setting $c = \\frac{\\pi}{10}$ gives us a very elegent cloud shape, while setting c = $-\\frac{3}{4} + 0.4i$ yields a completely different pattern."
   ]
  },
  {
   "cell_type": "code",
   "execution_count": null,
   "id": "710788dc",
   "metadata": {},
   "outputs": [],
   "source": [
    "output = mandelbrot(mesh,c=np.pi/10,num_iter=20)\n",
    "kwargs = {'title':'f(z) = z^2 + \\dfrac{\\pi}{10}', 'cmap':'plasma'}\n",
    "\n",
    "plot_fractal(output,**kwargs);"
   ]
  },
  {
   "cell_type": "code",
   "execution_count": null,
   "id": "520521f7",
   "metadata": {},
   "outputs": [],
   "source": [
    "output = mandelbrot(mesh,c= -0.75 + 0.4j,num_iter=20)\n",
    "kwargs = {'title':'f(z) = z^2 - \\dfrac{3}{4} + 0.4i', 'cmap':'Greens_r'}\n",
    "\n",
    "plot_fractal(output,**kwargs);"
   ]
  },
  {
   "cell_type": "markdown",
   "id": "4d9d6362",
   "metadata": {},
   "source": [
    "# Generalizing the Mandelbrot function\n",
    "\n",
    "We can generalize our Mandelbrot function even further by giving it a parameter for which Universal Function we would like to pass in. This would allow us to plot fractals of the form $f(z) = g(z) + c$ where g is a Universal Function selected by us. "
   ]
  },
  {
   "cell_type": "code",
   "execution_count": null,
   "id": "064fbe0c",
   "metadata": {},
   "outputs": [],
   "source": [
    "def general_mandelbrot(mesh,c=-1,f=np.square,num_iter=100,radius=2):\n",
    "    \n",
    "    z = mesh.copy()\n",
    "    diverge_len = np.zeros(z.shape) \n",
    "        \n",
    "    for i in range(num_iter):\n",
    "        z[np.abs(z)< radius] = f(z[np.abs(z)< radius]) + c\n",
    "        diverge_len[np.abs(z)< radius] += 1\n",
    "        \n",
    "    return diverge_len"
   ]
  },
  {
   "cell_type": "markdown",
   "id": "3f09249b",
   "metadata": {},
   "source": [
    "One cool set of fractals that can be plotted using our general Mandelbrot function are ones of the form $f(z) = z^n + c$ for some positive integer n. A very cool pattern which emerges is that the number of regions that 'stick out' matches the degree in which we raise the function to while iterating over it."
   ]
  },
  {
   "cell_type": "code",
   "execution_count": null,
   "id": "7109c7c3",
   "metadata": {},
   "outputs": [],
   "source": [
    "fig, axes = plt.subplots(2,3,figsize=(8,8))\n",
    "degree = 2\n",
    "\n",
    "for i in range(2):\n",
    "    for j in range(3):\n",
    "        \n",
    "        power = lambda z: np.power(z,degree) #Create power function for current degree \n",
    "\n",
    "        diverge_len = general_mandelbrot(mesh,f=power,num_iter=15)\n",
    "        axes[i,j].imshow(diverge_len,extent=[-2,2,-2,2],cmap='binary')\n",
    "        axes[i,j].set_title(f'$f(z) = z^{degree} -1$')\n",
    "                \n",
    "        degree += 1\n",
    "        \n",
    "fig.tight_layout();"
   ]
  },
  {
   "cell_type": "markdown",
   "id": "df6d695f",
   "metadata": {},
   "source": [
    "Needless to say, there is a large amount of exploring that can be done by fiddling with the inputted function, value of c, number of iterations, radius and even the density of the mesh and choice of colours."
   ]
  },
  {
   "cell_type": "markdown",
   "id": "7901e4bf",
   "metadata": {},
   "source": [
    "## Newton Fractals\n",
    "\n",
    "Newton fractals are a specific class of fractals, where iterations involve adding or subtracting the ratio of a function (often a polynomial) and its derivative to the input values. Mathematically, it can be expressed as:\n",
    "\n",
    "$z := z - \\frac{f(z)}{f'(z)}$\n",
    "\n",
    "We will define a general version of the fractal which will allow for different variations to be plotted by passing in our functions of choice."
   ]
  },
  {
   "cell_type": "code",
   "execution_count": null,
   "id": "2f008d8b",
   "metadata": {},
   "outputs": [],
   "source": [
    "def newton_fractal(mesh,f,df,num_iter=10,r=2):\n",
    "    \n",
    "    z = mesh.copy()\n",
    "    diverge_len = np.zeros(z.shape) \n",
    "        \n",
    "    for i in range(num_iter):\n",
    "        pz = f(z[np.abs(z)<r])\n",
    "        dp = df(z[np.abs(z)<r])\n",
    "        z[np.abs(z)<r] = z[np.abs(z)<r] - pz/dp\n",
    "        diverge_len[np.abs(z)<r] += 1\n",
    "        \n",
    "    return diverge_len"
   ]
  },
  {
   "cell_type": "markdown",
   "id": "c9034977",
   "metadata": {},
   "source": [
    "Now we can experiment with some different polynomials.\n",
    "\n",
    "For $p(z) = z^8 + 15 z^4 - 16$, we have \n",
    "\n",
    "\n",
    "$\\frac{dp}{dz} = 8z^7 + 60z^3$.\n",
    "\n",
    "Putting the polynomials to code and calling the function gives us:"
   ]
  },
  {
   "cell_type": "code",
   "execution_count": null,
   "id": "5e47cef5",
   "metadata": {},
   "outputs": [],
   "source": [
    "def poly(z):\n",
    "    return np.power(z,8) + 15* np.power(z,4) -16\n",
    "\n",
    "def derivative(z):\n",
    "    return 8* np.power(z,7) + 60 * np.power(z,3)"
   ]
  },
  {
   "cell_type": "code",
   "execution_count": null,
   "id": "2e0dae2b",
   "metadata": {},
   "outputs": [],
   "source": [
    "output = newton_fractal(mesh,poly,derivative,num_iter=15,r=2)\n",
    "kwargs = {'title':'f(z) = z - \\dfrac{(z^8 + 15z^4 - 16)}{(8z^7 + 60z^3)}', 'cmap':'copper'}\n",
    "\n",
    "plot_fractal(output,**kwargs)"
   ]
  },
  {
   "cell_type": "markdown",
   "id": "2efb48a0",
   "metadata": {},
   "source": [
    "Beautiful! Let's try another one:\n",
    "\n",
    "f(z) = $tan^2(z)$\n",
    "\n",
    "$\\frac{df}{dz} = 2 \\cdot tan(z) sec^2(z) =\\frac{2 \\cdot tan(z)}{cos^2(z)}$\n",
    "\n",
    "This makes $\\frac{f(z)}{f'(z)} =  tan^2(z) \\cdot \\frac{cos^2(z)}{2 \\cdot tan(z)} = \\frac{tan(z)\\cdot cos^2(z)}{2} = \\frac{sin(z)\\cdot cos(z)}{2}$"
   ]
  },
  {
   "cell_type": "code",
   "execution_count": null,
   "id": "16174a8d",
   "metadata": {},
   "outputs": [],
   "source": [
    "def f_tan(z):\n",
    "    return np.square(np.tan(z))\n",
    "\n",
    "def d_tan(z):\n",
    "    return 2*np.tan(z) / np.square(np.cos(z))"
   ]
  },
  {
   "cell_type": "code",
   "execution_count": null,
   "id": "7ab0ad02",
   "metadata": {},
   "outputs": [],
   "source": [
    "output = newton_fractal(mesh,f_tan,d_tan,num_iter=15,r=50)\n",
    "kwargs = {'title':'f(z) = z - \\dfrac{sin(z)cos(z)}{2}', 'cmap':'binary'}\n",
    "\n",
    "plot_fractal(output,**kwargs);"
   ]
  },
  {
   "cell_type": "markdown",
   "id": "89607057",
   "metadata": {},
   "source": [
    "Note that you sometimes have to play with the radius in order to get a neat looking fractal. \n",
    "\n",
    "Finally, we can go a little bit wild with our function selection\n",
    "\n",
    "$f(z) = \\sum_{i=1}^{10} sin^i(z)$\n",
    "\n",
    "$\\frac{df}{dz} = \\sum_{i=1}^{10} i \\cdot sin^{i-1}(z) \\cdot cos(z)$"
   ]
  },
  {
   "cell_type": "code",
   "execution_count": null,
   "id": "d1dbff86",
   "metadata": {},
   "outputs": [],
   "source": [
    "def sin_sum(z,n=10):\n",
    "    total = np.zeros(z.size,dtype=z.dtype)\n",
    "    for i in range(1,n+1):\n",
    "        total += np.power(np.sin(z),i)\n",
    "    return total\n",
    "\n",
    "def d_sin_sum(z,n=10):\n",
    "    total = np.zeros(z.size,dtype=z.dtype)\n",
    "    for i in range(1,n+1):\n",
    "        total +=  i * np.power(np.sin(z),i-1) * np.cos(z)\n",
    "    return total"
   ]
  },
  {
   "cell_type": "markdown",
   "id": "c7c5c5fb",
   "metadata": {},
   "source": [
    "We will denote this one 'Wacky fractal', as its equation would not be fun to try and put in the title."
   ]
  },
  {
   "cell_type": "code",
   "execution_count": null,
   "id": "22947a5f",
   "metadata": {},
   "outputs": [],
   "source": [
    "\n",
    "output = newton_fractal(small_mesh,sin_sum,d_sin_sum,num_iter=10,r=1)\n",
    "kwargs = {'title':'Wacky \\ fractal','figsize':(6,6),'extent':[-1,1,-1,1],'cmap':'terrain'}\n",
    "\n",
    "plot_fractal(output,**kwargs)"
   ]
  },
  {
   "cell_type": "markdown",
   "id": "88f35a99",
   "metadata": {},
   "source": [
    "It is truly fascinating how distinct yet similar these fractals are with each other. This leads us to the final section."
   ]
  },
  {
   "cell_type": "markdown",
   "id": "9fbdcae9",
   "metadata": {},
   "source": [
    "# Creating your own fractals\n",
    "\n",
    "\n",
    "What makes fractals more exciting is how much there is to explore once you become familiar with the basics. Now we will wrap up our tutorial by exploring some of the different ways one can experiment in creating unique fractals. I encourage you to try some things out on your own (if you have not done so already). \n",
    "\n",
    "One of the first places to experiment would be with the generalized Mandelbrot set, where we can try passing in different functions as parameters.  \n",
    "\n",
    "Let's start by choosing\n",
    "\n",
    "$f(z) = tan(z^2)$"
   ]
  },
  {
   "cell_type": "code",
   "execution_count": null,
   "id": "a3bd76f4",
   "metadata": {},
   "outputs": [],
   "source": [
    "def f(z):\n",
    "    return np.tan(np.square(z))"
   ]
  },
  {
   "cell_type": "code",
   "execution_count": null,
   "id": "595e4b6c",
   "metadata": {},
   "outputs": [],
   "source": [
    "output = general_mandelbrot(mesh,f=f,num_iter=15,radius=2.1)\n",
    "kwargs = {'title':'f(z) = tan(z^2)', 'cmap':'gist_stern'}\n",
    "\n",
    "plot_fractal(output,**kwargs);"
   ]
  },
  {
   "cell_type": "markdown",
   "id": "adf1b25d",
   "metadata": {},
   "source": [
    "What happens if we compose our defined function inside of a sin function?\n",
    "\n",
    "Let's try defining \n",
    "\n",
    "$g(z) = sin(f(z)) = sin(tan(z^2))$"
   ]
  },
  {
   "cell_type": "code",
   "execution_count": null,
   "id": "0203a240",
   "metadata": {},
   "outputs": [],
   "source": [
    "def g(z):\n",
    "    return np.sin(f(z))"
   ]
  },
  {
   "cell_type": "code",
   "execution_count": null,
   "id": "5a9817b0",
   "metadata": {},
   "outputs": [],
   "source": [
    "output = general_mandelbrot(mesh,f=g,num_iter=15,radius=2.1)\n",
    "kwargs = {'title':'g(z) = sin(tan(z^2))', 'cmap':'plasma_r'}\n",
    "\n",
    "plot_fractal(output,**kwargs);"
   ]
  },
  {
   "cell_type": "markdown",
   "id": "2d387374",
   "metadata": {},
   "source": [
    "Next, let's create a function that applies both f and g to the inputs each iteration and adds the result together\n",
    "\n",
    "$h(z) = f(z) + g(z) = tan(z^2) + sin(tan(z^2))$"
   ]
  },
  {
   "cell_type": "code",
   "execution_count": null,
   "id": "31edcbe0",
   "metadata": {},
   "outputs": [],
   "source": [
    "def h(z):\n",
    "    return f(z) + g(z)"
   ]
  },
  {
   "cell_type": "code",
   "execution_count": null,
   "id": "4c8ba9c7",
   "metadata": {
    "scrolled": false
   },
   "outputs": [],
   "source": [
    "output = general_mandelbrot(small_mesh,f=h,num_iter=10,radius=2.1)\n",
    "kwargs = {'title':'h(z) = tan(z^2) + sin(tan(z^2))','figsize':(7,7),'extent':[-1,1,-1,1], 'cmap':'jet'}\n",
    "\n",
    "plot_fractal(output,**kwargs);"
   ]
  },
  {
   "cell_type": "markdown",
   "id": "c27791be",
   "metadata": {},
   "source": [
    "You can even create beautiful fractals through your own errors. Here is one that got created accidently by making a mistake in computing the derivative of a Newton fractal."
   ]
  },
  {
   "cell_type": "code",
   "execution_count": null,
   "id": "b2019d86",
   "metadata": {},
   "outputs": [],
   "source": [
    "def accident(z):\n",
    "    return z - ( 2* np.power(np.tan(z),2) / ( np.sin(z) * np.cos(z) ) )"
   ]
  },
  {
   "cell_type": "code",
   "execution_count": null,
   "id": "6c9afb11",
   "metadata": {},
   "outputs": [],
   "source": [
    "output = general_mandelbrot(mesh,f=accident,num_iter=15,c = 0, radius=np.pi)\n",
    "kwargs = {'title':'Accidental \\ fractal', 'cmap':'Blues'}\n",
    "\n",
    "plot_fractal(output,**kwargs);"
   ]
  },
  {
   "cell_type": "markdown",
   "id": "e1e0fb8d",
   "metadata": {},
   "source": [
    "Needless to say, there are a nearly endless supply of interesting fractal creations that can be made just by playing around with various combinations of NumPy Universal Functions and by tinkering with the parameters. "
   ]
  },
  {
   "cell_type": "markdown",
   "id": "68c52c4e",
   "metadata": {},
   "source": [
    "# In conclusion\n",
    "\n",
    "We learned a lot about generating fractals today. We saw how complicated fractals requiring many iterations could be computed efficiently using Universal Functions. We also took advantage of boolean indexing, which allowed for less computations to be made without having to individually verify each value. Finally, we learned a lot about fractals themselves. As a recap:\n",
    "\n",
    "- Fractal images are created by iterating a function over a set of values, and keeping tally of how long it takes for each value to pass a certain threshold \n",
    "- The colours in the image correspond to the tally counts of the values\n",
    "- Mandelbrot fractals use a function of the form $f(z) = z^2 + c$\n",
    "- Newton fractals use functions of the form $f(z) = z - \\frac{p(z)}{p'(z)}$\n",
    "- The fractal images can vary as you adjust the number of iterations, radius of convergence, mesh size, colours, function choice and parameter choice"
   ]
  },
  {
   "cell_type": "markdown",
   "id": "96522077",
   "metadata": {},
   "source": [
    "# On your own\n",
    "\n",
    "- Play around with the parameters of the Mandelbrot function, try playing with the constant value, number of iterations, function choice, radius, and colour choice. \n",
    "\n",
    "- Visit the “List of fractals by Hausdorff dimension” Wikipedia page (linked in the Further reading section) and try writing a function for a fractal not mentioned in this tutorial."
   ]
  },
  {
   "cell_type": "markdown",
   "id": "6dd9ecca",
   "metadata": {},
   "source": [
    "# Further reading \n",
    "\n",
    "More information on the theory behind fractals - https://en.wikipedia.org/wiki/Fractal \n",
    "\n",
    "A list of different fractals - https://en.wikipedia.org/wiki/List_of_fractals_by_Hausdorff_dimension"
   ]
  }
 ],
 "metadata": {
  "kernelspec": {
   "display_name": "Python 3",
   "language": "python",
   "name": "python3"
  },
  "language_info": {
   "codemirror_mode": {
    "name": "ipython",
    "version": 3
   },
   "file_extension": ".py",
   "mimetype": "text/x-python",
   "name": "python",
   "nbconvert_exporter": "python",
   "pygments_lexer": "ipython3",
   "version": "3.9.1"
  }
 },
 "nbformat": 4,
 "nbformat_minor": 5
}
